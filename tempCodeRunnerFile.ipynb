# Calculate the total number of observations for each TP_COR_RACA
inscrito_counts = data_presenca['TP_COR_RACA'].value_counts()

# Calculate the number of AUSENTE for each TP_COR_RACA
ausente_counts = data_presenca[data_presenca['AUSENTE'] == True]['TP_COR_RACA'].value_counts()

# Create a DataFrame for plotting
comparison_df = pd.DataFrame({'Total': inscrito_counts, 'Ausente': ausente_counts}).reset_index()
comparison_df = comparison_df.rename(columns={'index': 'TP_COR_RACA'})

# Plotting
plt.figure(figsize=(12, 6))
sns.barplot(x='TP_COR_RACA', y='value', hue='variable', data=pd.melt(comparison_df, id_vars='TP_COR_RACA'))
plt.title('Total Observations vs Ausente by TP_COR_RACA')
plt.xlabel('TP_COR_RACA')
plt.ylabel('Count')
plt.show()